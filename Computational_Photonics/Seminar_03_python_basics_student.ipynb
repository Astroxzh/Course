{
 "cells": [
  {
   "cell_type": "markdown",
   "id": "f6b52c51-31b9-4d18-9819-c495f8d4ecb9",
   "metadata": {},
   "source": [
    "<center>\n",
    "    \n",
    "# Seminar 03\n",
    "## (Built-ins and standard library, matplotlib, NumPy, SciPy)\n",
    "<img src=\"https://upload.wikimedia.org/wikipedia/commons/c/c3/Python-logo-notext.svg\"/>"
   ]
  },
  {
   "attachments": {},
   "cell_type": "markdown",
   "id": "8b88ca4c-0ad6-43fe-ac8b-5ad932d753d8",
   "metadata": {},
   "source": [
    "## Build-in Functions\n",
    "\n",
    "The Python interpreter has a number of functions and types built into it that are always available. Some of them are listed in the folowing table:\n",
    "\n",
    "|Mathematical operations||Data type||Others|\n",
    "|-|-|-|-|-|\n",
    "|<center> abs()||<center> bool()||<center> help()|\n",
    "|<center> max()||<center> complex()||<center> input()|\n",
    "|<center> min()||<center> float()||<center> len()|\n",
    "|<center> pow()||<center> int()||<center> range()|\n",
    "|<center> round()||<center> str()||<center> type()|\n",
    "|<center> sum()||<center> list()||<center>print()|\n",
    "\n",
    "A full list of build-ins: https://docs.python.org/3/library/functions.html"
   ]
  },
  {
   "cell_type": "code",
   "execution_count": 4,
   "id": "6b2247f8-01f6-4b76-b950-6cd6be0fe1e6",
   "metadata": {
    "scrolled": true
   },
   "outputs": [
    {
     "name": "stdout",
     "output_type": "stream",
     "text": [
      "15\n",
      "15\n"
     ]
    }
   ],
   "source": [
    "# n = int(input('Please input a positive number:'))\n",
    "n = 5\n",
    "# TODO print the sum of all numbers in the range [1,{n}]\n",
    "print(sum(ii for ii in range(n+1)))\n",
    "print(sum(range(1,n+1)))"
   ]
  },
  {
   "attachments": {},
   "cell_type": "markdown",
   "id": "4c64d9d6-3ee1-4235-b1d3-aa15b7274bba",
   "metadata": {},
   "source": [
    "## Standard library\n",
    "- Reading and writing files\n",
    "- Interfacing the operating system\n",
    "- More data types\n",
    "  - Dates and Times\n",
    " \n",
    "https://docs.python.org/3/library/index.html"
   ]
  },
  {
   "cell_type": "code",
   "execution_count": 7,
   "id": "68d9af5a-e6e2-4a76-bac9-0c5076dadb68",
   "metadata": {},
   "outputs": [
    {
     "name": "stdout",
     "output_type": "stream",
     "text": [
      "Doing some calculations...\n",
      "Time duration of calculations:  0.00011329999995268736 s\n"
     ]
    }
   ],
   "source": [
    "# Measuring time of a code execution\n",
    "from timeit import default_timer as timer\n",
    "start = timer()   # TODO\n",
    "print('Doing some calculations...')\n",
    "end = timer()   # TODO\n",
    "print('Time duration of calculations: ', end - start, 's')"
   ]
  },
  {
   "cell_type": "code",
   "execution_count": 8,
   "id": "9f1e318b-e9b0-456b-ae01-015eea2fa4b5",
   "metadata": {},
   "outputs": [
    {
     "name": "stdout",
     "output_type": "stream",
     "text": [
      "Doing some calculations...\n",
      "Time duration of calculations:  0.0001596999999833315 s\n"
     ]
    }
   ],
   "source": [
    "# The same using other library\n",
    "from time import perf_counter\n",
    "start = perf_counter()  #TODO\n",
    "print('Doing some calculations...')\n",
    "end = perf_counter()   #TODO\n",
    "print('Time duration of calculations: ', end - start, 's')"
   ]
  },
  {
   "cell_type": "code",
   "execution_count": 9,
   "id": "baeb91d6-efba-4419-bb05-3d270bc3d9d9",
   "metadata": {},
   "outputs": [
    {
     "name": "stdout",
     "output_type": "stream",
     "text": [
      "c:\\githubProject\\Course\\Computational_Photonics\n"
     ]
    }
   ],
   "source": [
    "# get the current working dictionary\n",
    "import os\n",
    "cwd = os.getcwd()   # TODO\n",
    "print(cwd)"
   ]
  },
  {
   "cell_type": "code",
   "execution_count": 12,
   "id": "b8657fa7-4f9a-4ba8-8af9-0a1c7741c572",
   "metadata": {
    "scrolled": true
   },
   "outputs": [
    {
     "name": "stdout",
     "output_type": "stream",
     "text": [
      "c:\\githubProject\\Course\n"
     ]
    }
   ],
   "source": [
    "#TODO change the working dictionary by os.chdir\n",
    "os.chdir(r'c:\\githubProject\\Course')\n",
    "print(os.getcwd())"
   ]
  },
  {
   "cell_type": "code",
   "execution_count": 13,
   "id": "f93c78c1-efe7-4e69-bc7b-3229583bb818",
   "metadata": {},
   "outputs": [],
   "source": [
    "#TODO change the working dictionary back to the original one\n",
    "os.chdir(r'c:\\githubProject\\Course\\Computational_Photonics')"
   ]
  },
  {
   "cell_type": "markdown",
   "id": "3d5db9ae-c650-44c8-99a5-990905817d33",
   "metadata": {},
   "source": [
    "## matplotlib: Drawing graphs\n",
    "[matplotlib](https://matplotlib.org/) is a plotting library for Python. There are two ways to use it: one based on a procedural interface similar to the one of Matlab and one based on object oriented programming. We will only quickly give an introduction to the first way. If you want to use matplotlib beyond this course we recommend to study the [documentation](https://matplotlib.org/users/index.html).\n",
    "\n",
    "\n",
    "Example gallery: https://matplotlib.org/stable/gallery/index.html\n",
    "\n",
    "Matplotlib is imported in the following way:"
   ]
  },
  {
   "cell_type": "code",
   "execution_count": 16,
   "id": "d87b2188-8314-4365-9dd4-ccf50ca8f392",
   "metadata": {},
   "outputs": [],
   "source": [
    "import matplotlib.pyplot as plt"
   ]
  },
  {
   "cell_type": "markdown",
   "id": "87a626eb-7cad-40d9-909b-58aae6741ebe",
   "metadata": {},
   "source": [
    "This is just a convention but you are _strongly_ advised to stick to it.\n",
    "\n",
    "Most important function is ``plt.plot(x,y)``. See following example:"
   ]
  },
  {
   "cell_type": "code",
   "execution_count": 29,
   "id": "72b5f9e9-a43c-4c5c-914f-d350074037e5",
   "metadata": {},
   "outputs": [
    {
     "data": {
      "image/png": "[encoded data removed]",
      "text/plain": [
       "<Figure size 640x480 with 1 Axes>"
      ]
     },
     "metadata": {},
     "output_type": "display_data"
    }
   ],
   "source": [
    "x = list(range(6))\n",
    "\n",
    "y1 = []\n",
    "y2 = []\n",
    "\n",
    "for elem in x:\n",
    "    y1.append(2 ** elem)\n",
    "    y2.append(elem ** 2)\n",
    "\n",
    "#TODO plot y1, y2 with different marks\n",
    "plt.figure()\n",
    "plt.plot(x, y1, 'ro--')\n",
    "plt.plot(x, y2, 'b*-')\n",
    "plt.xlabel('index')\n",
    "plt.ylabel('value')\n",
    "plt.title('2 power vs power 2')\n",
    "plt.legend(['$y_1=2^x$', '$y_2=x^2$'])\n",
    "plt.xlim(-1,10)\n",
    "plt.grid()\n",
    "\n",
    "plt.show()"
   ]
  },
  {
   "cell_type": "markdown",
   "id": "757e27a2-81c6-45c0-a567-c13ce514e754",
   "metadata": {},
   "source": [
    "As you noticed ``plot(x, y)`` function basically just plots the graph (x, y). You can provide the color and type of the graph in a string after y: the first character indicates the color (``'r'`` is for red, ``'b'`` is for blue, etc.) and then one or more characters indicate the type (``-`` is for single line, ``--`` is for dashed line, ``x`` is for crosses, ``o`` is for circles , etc.). There are a lot of additional arguments which can be provided by either their short or long name:\n",
    "* ``linewidth`` or ``lw``: A floating point value which sets the linewidth (default 1.0).    \n",
    "* ``color`` or ``c``: The color of the line as a single character (as above).\n",
    "* ``linestyle`` or ``ls``: The type of the line (as above).\n",
    "* ``label``: A string which will appear in the legend for that line (if you activate a legend).\n",
    "  \n",
    "Some additional useful functions:\n",
    "* ``semilogx()``, ``semilogy()``: Has the same syntax as plot but sets one of the axes with a logarithmic scale.\n",
    "* ``xlabel(text)`` ``ylabel(text)``: Sets the label on the x or y axis.\n",
    "* ``xlims((min, max))``, ``ylims((min, max))``: Sets the limits of the x or y axis. Expects a tuple with (min, max). Call like ``plt.xlim((-1, 1))`` (note the double parentheses which indicate the tuple).\n",
    "* ``grid()``: Toggles a grid on the plot.\n",
    "* ``legend(text,loc)``: Activates the legend. loc is a string containing a positional argument like ``'upper left'`` or ``'lower right'``. Most of the time you go with ``'best'`` where matplotlib searches for a position where the legend does not cover the graphs."
   ]
  },
  {
   "cell_type": "markdown",
   "id": "9a4d804a-ef02-4fe5-98c9-db9ce4c77ed0",
   "metadata": {},
   "source": [
    "## NumPy: Numerical Python \n",
    "[NumPy](https://numpy.org/doc/stable/) is a library for mathematical operations. It is probably at the core of most if not all scientific Python packages. NumPy provides easy-to-use, efficient, multi-dimensional arrays and [functions](https://numpy.org/doc/stable/reference/generated/numpy.ndarray.html) that operate on them.\n",
    "\n",
    "The standard import of NumPy is"
   ]
  },
  {
   "cell_type": "code",
   "execution_count": 30,
   "id": "d80b411f-5378-4ef1-ab30-bf70d1753f2b",
   "metadata": {},
   "outputs": [],
   "source": [
    "import numpy as np"
   ]
  },
  {
   "cell_type": "markdown",
   "id": "e1acc28f-d01a-4798-9d5c-8cbb2e330f55",
   "metadata": {},
   "source": [
    "### Array creation¶\n",
    "\n",
    "NumPy provides a new data type: ndarray (for representation of matrix!) You can create an NumPy array in many ways, for example from any sequenced Python type, e.g. a list, using the <code>np.array(object, dtype=None)</code> function:"
   ]
  },
  {
   "cell_type": "code",
   "execution_count": 31,
   "id": "50044546-5b90-4bf2-980a-8cb9c229403c",
   "metadata": {},
   "outputs": [
    {
     "name": "stdout",
     "output_type": "stream",
     "text": [
      "<class 'list'> <class 'numpy.ndarray'>\n"
     ]
    }
   ],
   "source": [
    "# TODO check the type of a list and ndarray \n",
    "a = []\n",
    "b = np.array(a)\n",
    "\n",
    "print(type(a), type(b))\n"
   ]
  },
  {
   "cell_type": "markdown",
   "id": "52256774-aa9b-45c3-b7ba-5f015a279e83",
   "metadata": {},
   "source": [
    "The datatype of an array can be accessed over the attribute dtype. At array creation it will either be deduced from the input or it can be provided with the ``dtype`` argument:"
   ]
  },
  {
   "cell_type": "code",
   "execution_count": 38,
   "id": "93f579d9-eebd-4647-8fc4-0cdb4d344fbd",
   "metadata": {},
   "outputs": [
    {
     "name": "stdout",
     "output_type": "stream",
     "text": [
      "uint8 float32 complex128\n"
     ]
    }
   ],
   "source": [
    "# TODO define np.array with different datetypes\n",
    "c = []\n",
    "intArray = np.array(c, dtype='uint8')\n",
    "floatArray = np.array(c, dtype='float32')\n",
    "complexArray = np.array(c, dtype='complex128')\n",
    "\n",
    "print(intArray.dtype, floatArray.dtype, complexArray.dtype)\n",
    "\n",
    "# sequence: complex -> float -> integer"
   ]
  },
  {
   "cell_type": "markdown",
   "id": "ac4a1f35-cfd0-4384-a9dd-cfa1a9d469c1",
   "metadata": {},
   "source": [
    "#### The ``ndarray`` object provides further properties: \n",
    "\n",
    "- ``ndim``: The number of axes (dimensions) of the array.\n",
    "- ``shape``: The dimensions of the array. This is a tuple of integers indicating the size of the array in each dimension. For a matrix with __n__ rows and __m__ columns, shape will be ``(n,m)``. The length of the shape tuple is the number of\n",
    "dimensions (``ndim``).\n",
    "- ``size``: The total number of elements of the array. This is equal to the product of the elements of shape."
   ]
  },
  {
   "cell_type": "code",
   "execution_count": 43,
   "id": "48384fe6-1f34-49fc-a444-eccd167d3a79",
   "metadata": {},
   "outputs": [
    {
     "name": "stdout",
     "output_type": "stream",
     "text": [
      "The number of axes (dimensions) of the array: 2\n",
      "The size of the array in each dimension: (3, 3)\n",
      "The total number of elements of the array: 9\n"
     ]
    }
   ],
   "source": [
    "x = np.array([[1, 2, 3], \n",
    "              [4, 5, 6], \n",
    "              [7, 8, 9]])\n",
    "# check the properties of the ndarray\n",
    "print('The number of axes (dimensions) of the array:', x.ndim) #TODO\n",
    "print('The size of the array in each dimension:', x.shape) #TODO\n",
    "print('The total number of elements of the array:', x.size) #TODO"
   ]
  },
  {
   "cell_type": "markdown",
   "id": "39d75512-b9c9-4ecb-ad49-23893a2502df",
   "metadata": {},
   "source": [
    "#### There are other functions that directly create an array with a specified shape:\n",
    "- <code>np.zeros(shape, dtype=None)</code> - Return a new array of given shape and type, filled with zeros.\n",
    "- <code>np.ones(shape, dtype=None)</code> - Return a new array of given shape and type, filled with ones.\n",
    "- <code>np.arange(start, stop, stepsize)</code> - Return evenly spaced values within a given interval\n",
    "- <code>np.full(shape, fillvalue, dtype=None)</code> - Return a new array of given shape and type, filled with fill_value.\n",
    "- <code>np.random.rand(shape)</code> - Random values in a given shape.\n",
    "- <code>np.linspace(start, stop, nSteps)</code> - Return evenly spaced numbers over a specified interval."
   ]
  },
  {
   "cell_type": "code",
   "execution_count": null,
   "id": "dfa04b36-8a9a-48f3-a0b9-0893356e9714",
   "metadata": {},
   "outputs": [
    {
     "name": "stdout",
     "output_type": "stream",
     "text": [
      "[[[0.+0.j 0.+0.j 0.+0.j]\n",
      "  [0.+0.j 0.+0.j 0.+0.j]\n",
      "  [0.+0.j 0.+0.j 0.+0.j]]\n",
      "\n",
      " [[0.+0.j 0.+0.j 0.+0.j]\n",
      "  [0.+0.j 0.+0.j 0.+0.j]\n",
      "  [0.+0.j 0.+0.j 0.+0.j]]\n",
      "\n",
      " [[0.+0.j 0.+0.j 0.+0.j]\n",
      "  [0.+0.j 0.+0.j 0.+0.j]\n",
      "  [0.+0.j 0.+0.j 0.+0.j]]]\n"
     ]
    }
   ],
   "source": [
    "# TODO use different functions to create an array\n",
    "\n",
    "zeroArray = np.zeros((3, 3, 3), dtype='complex128')\n",
    "oneArray = np.ones((3, 3, 3), dtype=np.float32)\n",
    "fullArray = np.full((3, 3), 100)\n",
    "randArray = np.random.rand(3, 3)\n",
    "arangeArray = np.arange(0, 6, 2)\n",
    "linespaceArray = np.linspace(0, 6, 100)\n",
    "# print(zeroArray)\n",
    "# print(fullArray)\n",
    "# print(randArray)\n",
    "# print(arangeArray)\n"
   ]
  },
  {
   "cell_type": "markdown",
   "id": "bfe96812-e3c0-4dfe-b596-3b9f79041c1a",
   "metadata": {},
   "source": [
    "<!-- #### Operations on Arrays\n",
    "Operations with NumPy arrays are always _element-wise_. The normal arithmetic operators (+, -, /, * and **) are available for most combinations of NumPy arrays and scalars: -->"
   ]
  },
  {
   "cell_type": "code",
   "execution_count": 71,
   "id": "423d0c83-db9d-4ba6-aadb-43f72016c6b2",
   "metadata": {},
   "outputs": [
    {
     "name": "stdout",
     "output_type": "stream",
     "text": [
      "[[0 1 2]\n",
      " [3 4 5]\n",
      " [6 7 8]]\n"
     ]
    }
   ],
   "source": [
    "a = np.array([[1, 2, 3], \n",
    "              [4, 5, 6], \n",
    "              [7, 8, 9]])\n",
    "# TODO For each element in a, subtract 1\n",
    "\n",
    "b = a - 1\n",
    "print(b)"
   ]
  },
  {
   "cell_type": "code",
   "execution_count": 67,
   "id": "4682dc9e-1b67-4a20-b04c-32efc32f0130",
   "metadata": {},
   "outputs": [
    {
     "name": "stdout",
     "output_type": "stream",
     "text": [
      "[[ 0  1  4]\n",
      " [ 9 16 25]\n",
      " [36 49 64]]\n"
     ]
    }
   ],
   "source": [
    "# TODO Square each element of a\n",
    "c = a ** 2\n",
    "print(c)"
   ]
  },
  {
   "cell_type": "code",
   "execution_count": 72,
   "id": "b6a7c7c0-d2b0-4a8a-b762-de31ce556a9a",
   "metadata": {},
   "outputs": [
    {
     "name": "stdout",
     "output_type": "stream",
     "text": [
      "[[0. 1. 2.]\n",
      " [3. 4. 5.]\n",
      " [6. 7. 8.]]\n"
     ]
    }
   ],
   "source": [
    "b = np.ones((3, 3))\n",
    "\n",
    "# TODO matrix substraction\n",
    "d = a - b\n",
    "print(d)"
   ]
  },
  {
   "cell_type": "code",
   "execution_count": 74,
   "id": "89a229fc-f5a6-45ed-becc-7e8e49621122",
   "metadata": {},
   "outputs": [
    {
     "name": "stdout",
     "output_type": "stream",
     "text": [
      "[[1. 2. 3.]\n",
      " [4. 5. 6.]\n",
      " [7. 8. 9.]]\n"
     ]
    }
   ],
   "source": [
    "# TODO Multiply each corresponding element in a and b to obtain matrix c\n",
    "c = a * b\n",
    "print(c)"
   ]
  },
  {
   "cell_type": "markdown",
   "id": "b242fb4d-6223-460d-b16e-5cbebb92ff38",
   "metadata": {},
   "source": [
    "As you can see the multiplication operator does not implement a matrix multiplication but rather the element-wise multiplication. If you want a matrix multiplication, use ``np.dot(A, B)``:"
   ]
  },
  {
   "cell_type": "code",
   "execution_count": 77,
   "id": "4c37b223-8e98-4709-aceb-441e14f475bf",
   "metadata": {},
   "outputs": [
    {
     "name": "stdout",
     "output_type": "stream",
     "text": [
      "[[ 6.  6.  6.]\n",
      " [15. 15. 15.]\n",
      " [24. 24. 24.]]\n",
      "[[ 6.  6.  6.]\n",
      " [15. 15. 15.]\n",
      " [24. 24. 24.]]\n"
     ]
    }
   ],
   "source": [
    "# TODO Matrix multiplication\n",
    "dotMulti = np.dot(a, b)\n",
    "dotMulti2 = a @ b\n",
    "print(dotMulti)\n",
    "print(dotMulti2)"
   ]
  },
  {
   "cell_type": "markdown",
   "id": "0ce20152-03a6-4bc2-854e-4603ac0ad1f9",
   "metadata": {},
   "source": [
    "### Indexing\n",
    "The elements of a multidimensional NumPy array can be accessed by listing the indices separated by a comma in square brackets behind the array name. This is different to lists where you could only specify one index per bracket. The indexing starts with zero. Like with lists negative indices refer to elements from the end of the array. It starts with the last element which has the index -1. For example:"
   ]
  },
  {
   "cell_type": "code",
   "execution_count": 79,
   "id": "80269789-ec52-49c1-984c-75d0f160dae9",
   "metadata": {},
   "outputs": [
    {
     "name": "stdout",
     "output_type": "stream",
     "text": [
      "5\n"
     ]
    }
   ],
   "source": [
    "x = np.array([[0, 1, 2], \n",
    "              [3, 4, 5], \n",
    "              [6, 7, 8]])\n",
    "# TODO get the value of second row, third column of x\n",
    "print(x[1, 2])"
   ]
  },
  {
   "cell_type": "code",
   "execution_count": 81,
   "id": "35d02447-5cdf-406b-ac4c-1a0a54107f87",
   "metadata": {},
   "outputs": [
    {
     "name": "stdout",
     "output_type": "stream",
     "text": [
      "7\n",
      "7\n"
     ]
    }
   ],
   "source": [
    "# TODO get the value of third row, second column of x\n",
    "print(x[2, 1])\n",
    "print(x[-1, 1])"
   ]
  },
  {
   "cell_type": "markdown",
   "id": "206c3154-5849-4f39-a928-b9b4f7267f16",
   "metadata": {},
   "source": [
    "An important feature of NumPy arrays is their support for *slices*. By using the “colon operator” you can extract certain subsets from a multi-dimensional array. The notation is similar to the ``range(start, stop+1, step)`` function from Python. The slice ``n:m:step`` corresponds to selecting the indices ``n, n+step, . . . , n + k * step < m``. All parameters of a slice are optional and default to selecting the whole array. Some examples:"
   ]
  },
  {
   "cell_type": "code",
   "execution_count": null,
   "id": "a2433e31-0dc9-4c65-9b6c-361215006e54",
   "metadata": {},
   "outputs": [
    {
     "name": "stdout",
     "output_type": "stream",
     "text": [
      "[[0]]\n"
     ]
    }
   ],
   "source": [
    "# TODO get 1x1 submatrix from x, upper left \n",
    "print(x[0, 0])\n",
    "print(x[0:1, 0:1])"
   ]
  },
  {
   "cell_type": "code",
   "execution_count": 83,
   "id": "cf43f9d6-4b46-4320-956b-6f2c3a52b7e1",
   "metadata": {},
   "outputs": [
    {
     "name": "stdout",
     "output_type": "stream",
     "text": [
      "[[4 5]\n",
      " [7 8]]\n"
     ]
    }
   ],
   "source": [
    "# TODO get 2x2 submatrix from x, lower right\n",
    "print(x[1:3, 1:3])"
   ]
  },
  {
   "cell_type": "code",
   "execution_count": 84,
   "id": "6a781a77-e4d8-4a2e-9057-6276d21bf4aa",
   "metadata": {},
   "outputs": [
    {
     "name": "stdout",
     "output_type": "stream",
     "text": [
      "[[0 2]\n",
      " [6 8]]\n"
     ]
    }
   ],
   "source": [
    "# TODO get 2x2 submatrix from corner elements of x\n",
    "print(x[0:3:2, 0:3:2])"
   ]
  },
  {
   "cell_type": "code",
   "execution_count": 86,
   "id": "15d841bf-92b8-43e7-91af-c58116be2de9",
   "metadata": {},
   "outputs": [
    {
     "name": "stdout",
     "output_type": "stream",
     "text": [
      "[[6 7 8]\n",
      " [3 4 5]\n",
      " [0 1 2]]\n"
     ]
    }
   ],
   "source": [
    "# TODO reverse on first axis\n",
    "print(x[::-1, :])"
   ]
  },
  {
   "cell_type": "markdown",
   "id": "ca13cc3c-6624-4cfd-a193-9706f25bd585",
   "metadata": {},
   "source": [
    "**Note:** Slices return a view of the array, not a copy! Thus, on one hand they offer superior\n",
    "performance for doing certain tasks (as compared to copying and creating new arrays). On the other hand there may be really unexpected problems because you are working on the same memory location as the original array."
   ]
  },
  {
   "cell_type": "markdown",
   "id": "6b6446e7-851a-45b9-a820-6ba822a7c198",
   "metadata": {},
   "source": [
    "There is also the possibility to index arrays with boolean arrays. This is rather useful for setting conditions on certain parts of the array."
   ]
  },
  {
   "cell_type": "code",
   "execution_count": null,
   "id": "64a2dffa-dcd8-4443-943f-156602b725ef",
   "metadata": {},
   "outputs": [],
   "source": [
    "x = np.linspace(-1.0, 1.0, 10)\n",
    "x"
   ]
  },
  {
   "cell_type": "code",
   "execution_count": 91,
   "id": "61b42f47-92a6-4b24-acf7-fb8247c9c2dc",
   "metadata": {
    "scrolled": true
   },
   "outputs": [
    {
     "name": "stdout",
     "output_type": "stream",
     "text": [
      "[[1 0 0]\n",
      " [0 0 0]\n",
      " [0 0 0]]\n"
     ]
    }
   ],
   "source": [
    "# TODO Generate y by setting values to 1 where x is between –0.5 and 0.5, and 0 elsewhere, without modifying x\n",
    "y = np.zeros_like(x)\n",
    "y[(x>=-0.5) & (x<=0.5)] = 1\n",
    "print(y)"
   ]
  },
  {
   "cell_type": "markdown",
   "id": "73bae79e-cfee-4108-bd1a-538246f19fee",
   "metadata": {},
   "source": [
    "### Reshape/Resizing\n",
    "- <code>np.reshape(array, new_shape, order)</code> - Gives a new shape to an array without changing its data.\n",
    "- <code>resize(array, new_shape)</code> - Return a new array with the specified shape.\n",
    "- <code>np.repeat(a, repeats, axis=None)</code> - Repeat each element of an array after themselves.\n",
    "- <code>np.tile(A, reps)</code> - Construct an array by repeating A the number of times given by reps.\n",
    "- <code>np.ravel(a, order='C')</code> - Return a contiguous flattened array.\n",
    "  - <code>np.ndarray.flatten(order='C')</code>"
   ]
  },
  {
   "cell_type": "code",
   "execution_count": 95,
   "id": "587836ae-ca0e-4962-b55a-e516a763416b",
   "metadata": {},
   "outputs": [
    {
     "name": "stdout",
     "output_type": "stream",
     "text": [
      "[[0 1 2 3 4 5 6 7 8]]\n"
     ]
    }
   ],
   "source": [
    "x = np.array([[0, 1, 2], \n",
    "              [3, 4, 5], \n",
    "              [6, 7, 8]])\n",
    "\n",
    "# TODO Return a copy of the array collapsed into one dimension.\n",
    "\n",
    "# y = np.ravel(x)\n",
    "x.flatten()\n",
    "y = np.reshape(x,(1,9))\n",
    "print(y)\n"
   ]
  },
  {
   "cell_type": "markdown",
   "id": "d8568e1f-1851-423c-b2d8-3cf81066e77f",
   "metadata": {},
   "source": [
    "### Meshgrids\n",
    "There is one important function which allows to create grids of points. Consider you\n",
    "want to calculate the function $z = f(x, y) = x^2 + y^2$ efficiently on an linearly spaced,\n",
    "two-dimensional grid. The function meshgrid allows you to do that:"
   ]
  },
  {
   "cell_type": "code",
   "execution_count": 98,
   "id": "b209943f-9fb5-4791-b986-b780c20b2b83",
   "metadata": {},
   "outputs": [
    {
     "name": "stdout",
     "output_type": "stream",
     "text": [
      "[[5.   4.25 4.   4.25 5.  ]\n",
      " [3.25 2.5  2.25 2.5  3.25]\n",
      " [2.   1.25 1.   1.25 2.  ]\n",
      " [1.25 0.5  0.25 0.5  1.25]\n",
      " [1.   0.25 0.   0.25 1.  ]]\n"
     ]
    }
   ],
   "source": [
    "x = np.linspace(-1, 1, 5)\n",
    "y = np.linspace(-2, 0, 5)\n",
    "\n",
    "# TODO calculate Z with x and y above. Hint: use np.meshgrid()#\n",
    "X, Y = np.meshgrid(x, y)\n",
    "Z = X**2 + Y**2\n",
    "print(Z)"
   ]
  },
  {
   "cell_type": "markdown",
   "id": "ed270bb4-f0de-41d6-a722-255c44c18046",
   "metadata": {},
   "source": [
    "### Broadcasting\n",
    "Broadcasting means that arrays do not necessarily have to have the same shape to be used together in calculations. Rather their shapes need to be broadcastable:"
   ]
  },
  {
   "cell_type": "code",
   "execution_count": null,
   "id": "8c17985a-1fa4-4938-a777-56423dde1f67",
   "metadata": {},
   "outputs": [
    {
     "data": {
      "text/plain": [
       "array([[1., 2., 3.],\n",
       "       [1., 2., 3.],\n",
       "       [1., 2., 3.],\n",
       "       [1., 2., 3.]])"
      ]
     },
     "execution_count": 104,
     "metadata": {},
     "output_type": "execute_result"
    }
   ],
   "source": [
    "x = np.ones((4, 3))\n",
    "y = np.arange(3)\n",
    "# y = np.arange(4) # raise error, NumPy 在对齐时会把短数组的形状看作在前面补 “1”\n",
    "x + y"
   ]
  },
  {
   "cell_type": "code",
   "execution_count": null,
   "id": "5a0e7254-aa07-4169-904b-a47717d8e245",
   "metadata": {},
   "outputs": [
    {
     "data": {
      "text/plain": [
       "array([[1., 1., 1.],\n",
       "       [2., 2., 2.],\n",
       "       [3., 3., 3.],\n",
       "       [4., 4., 4.]])"
      ]
     },
     "execution_count": 102,
     "metadata": {},
     "output_type": "execute_result"
    }
   ],
   "source": [
    "z = np.arange(4)\n",
    "# x + z # raises Error\n",
    "x + z[:, None]  # 增加一个中间轴，变成(4,1)，可以广播到纵轴"
   ]
  },
  {
   "cell_type": "markdown",
   "id": "be1fbe74-027e-42c3-95db-768a01596691",
   "metadata": {},
   "source": [
    "### Trigonometric functions\n",
    "- <code>sin() <-> arcsin()\n",
    "- <code>cos() <-> arccos()\n",
    "- <code>tan() <-> arctan()\n",
    "- <code>sinc()\n",
    "- <code>deg2rad()/radian()\n",
    "- <code>rad2deg()/degree()"
   ]
  },
  {
   "cell_type": "code",
   "execution_count": 108,
   "id": "44a49b56-5e83-4e03-a065-bc340172f9bb",
   "metadata": {},
   "outputs": [
    {
     "data": {
      "text/plain": [
       "array([[ 0.        ,  0.84147098,  0.90929743],\n",
       "       [ 0.14112001, -0.7568025 , -0.95892427],\n",
       "       [-0.2794155 ,  0.6569866 ,  0.98935825]])"
      ]
     },
     "execution_count": 108,
     "metadata": {},
     "output_type": "execute_result"
    }
   ],
   "source": [
    "x = np.array([[0, 1, 2], \n",
    "              [3, 4, 5], \n",
    "              [6, 7, 8]])\n",
    "\n",
    "np.sin(x)"
   ]
  },
  {
   "cell_type": "markdown",
   "id": "3163054c-0359-4d95-995e-3accb89abea6",
   "metadata": {},
   "source": [
    "### Exponents and logarithms\n",
    "- <code>exp()\n",
    "- <code>log()\n",
    "- <code>log10()"
   ]
  },
  {
   "cell_type": "code",
   "execution_count": 109,
   "id": "e6a9d878-3c04-41d3-baf4-5a7eabd8ae21",
   "metadata": {},
   "outputs": [
    {
     "data": {
      "text/plain": [
       "array([[1.00000000e+00, 2.71828183e+00, 7.38905610e+00],\n",
       "       [2.00855369e+01, 5.45981500e+01, 1.48413159e+02],\n",
       "       [4.03428793e+02, 1.09663316e+03, 2.98095799e+03]])"
      ]
     },
     "execution_count": 109,
     "metadata": {},
     "output_type": "execute_result"
    }
   ],
   "source": [
    "np.exp(x)"
   ]
  },
  {
   "cell_type": "markdown",
   "id": "141c09cb-444e-4718-9cac-f108d09b92d4",
   "metadata": {},
   "source": [
    "### Sums, differences\n",
    "- <code>sum()\n",
    "- <code>diff()"
   ]
  },
  {
   "cell_type": "code",
   "execution_count": null,
   "id": "81015d65",
   "metadata": {},
   "outputs": [],
   "source": []
  },
  {
   "cell_type": "markdown",
   "id": "6a311426-e278-43b9-ac66-8ad563f7e774",
   "metadata": {},
   "source": [
    "### Rounding\n",
    "- <code>round()\n",
    "- <code>fix()\n",
    "- <code>floor()\n",
    "- <code>ceil()"
   ]
  },
  {
   "cell_type": "markdown",
   "id": "28a8bc77-8c99-4705-b57f-bf3501ee1e70",
   "metadata": {},
   "source": [
    "### Handling complex numbers\n",
    "- <code>angle()\n",
    "- <code>real()\n",
    "- <code>imag()\n",
    "- <code>conj()/conjugate()"
   ]
  },
  {
   "cell_type": "markdown",
   "id": "4b9a5e5b-ee12-47fa-bab6-c47260a1a73c",
   "metadata": {},
   "source": [
    "### numpy.linalg : Linear Algebra\n",
    "NumPy provides several routines for linear algebra in the submodule [linalg](https://docs.scipy.org/doc/numpy/reference/routines.linalg.html). We will present only the most prominent here:\n",
    "\n",
    "- [``np.linalg.eig(array)``](https://docs.scipy.org/doc/numpy/reference/generated/numpy.linalg.eig.html#numpy.linalg.eig) Computes the eigenvalues and right eigenvectors of a square array. It returns to arrays, the first contains the eigenvalues according to their multiplicity, the second contains the eigenvectors.\n",
    "- [``np.linalg.det(array)``](https://docs.scipy.org/doc/numpy/reference/generated/numpy.linalg.det.html#numpy.linalg.det) Compute the determinant of an array.\n",
    "- [``np.linalg.inv(array)``](https://docs.scipy.org/doc/numpy/reference/generated/numpy.linalg.inv.html#numpy.linalg.inv) Compute the (multiplicative) inverse of a matrix.\n",
    "- ``np.linalg.solve(a,b)`` - Solve a linear matrix equation, or system of linear scalar equations."
   ]
  },
  {
   "cell_type": "code",
   "execution_count": 110,
   "id": "e4323020-5545-4f42-aeaf-87492a76f205",
   "metadata": {},
   "outputs": [
    {
     "data": {
      "text/plain": [
       "-0.0218611878810917"
      ]
     },
     "execution_count": 110,
     "metadata": {},
     "output_type": "execute_result"
    }
   ],
   "source": [
    "# Arrays in NumPy and linear algebra\n",
    "a = np.random.rand(3, 3) # 3x3 matrix with random numbers\n",
    "np.linalg.det(a)"
   ]
  },
  {
   "cell_type": "code",
   "execution_count": 111,
   "id": "2ec8c58f-120c-4bec-8036-b130004396c3",
   "metadata": {},
   "outputs": [
    {
     "data": {
      "text/plain": [
       "EigResult(eigenvalues=array([ 1.29527212,  0.06805912, -0.24798558]), eigenvectors=array([[-0.82707378, -0.87979203,  0.26149327],\n",
       "       [-0.44898394,  0.42472756, -0.57970657],\n",
       "       [-0.33817507,  0.21347712,  0.77172635]]))"
      ]
     },
     "execution_count": 111,
     "metadata": {},
     "output_type": "execute_result"
    }
   ],
   "source": [
    "np.linalg.eig(a)"
   ]
  },
  {
   "cell_type": "code",
   "execution_count": 112,
   "id": "719729c4-a2df-45b6-929b-8423c8f10974",
   "metadata": {},
   "outputs": [
    {
     "data": {
      "text/plain": [
       "array([[ 8.77043697, -7.32303901, -9.8391013 ],\n",
       "       [-3.9854934 ,  3.07513177,  6.68956835],\n",
       "       [-1.71203625,  4.04625092, -0.41291388]])"
      ]
     },
     "execution_count": 112,
     "metadata": {},
     "output_type": "execute_result"
    }
   ],
   "source": [
    "np.linalg.inv(a)"
   ]
  },
  {
   "cell_type": "markdown",
   "id": "6e2b9f0f-ef86-4306-87a3-94074ee432a4",
   "metadata": {},
   "source": [
    "### numpy.fft: Fast Fourier Transform\n",
    "\n",
    "The [numpy.fft](https://docs.scipy.org/doc/numpy/reference/routines.fft.html) subpackage provides an implementation of the fast fourier transform (FFT) and several helper functions. The forward discrete Fourier transform can be performed with ``np.fft.fft(x)`` and the backward DFT with ``np.fft.ifft(x)``."
   ]
  },
  {
   "cell_type": "code",
   "execution_count": 117,
   "id": "83a1d102-ab8c-4336-8fc6-87b8ed27e003",
   "metadata": {},
   "outputs": [
    {
     "name": "stderr",
     "output_type": "stream",
     "text": [
      "c:\\Users\\zihao\\miniconda3\\envs\\Aspera\\lib\\site-packages\\matplotlib\\cbook.py:1762: ComplexWarning: Casting complex values to real discards the imaginary part\n",
      "  return math.isfinite(val)\n",
      "c:\\Users\\zihao\\miniconda3\\envs\\Aspera\\lib\\site-packages\\matplotlib\\cbook.py:1398: ComplexWarning: Casting complex values to real discards the imaginary part\n",
      "  return np.asarray(x, float)\n"
     ]
    },
    {
     "data": {
      "text/plain": [
       "[<matplotlib.lines.Line2D at 0x20d5d24ef70>]"
      ]
     },
     "execution_count": 117,
     "metadata": {},
     "output_type": "execute_result"
    },
    {
     "data": {
      "image/png": "[encoded data removed]",
      "text/plain": [
       "<Figure size 640x480 with 1 Axes>"
      ]
     },
     "metadata": {},
     "output_type": "display_data"
    },
    {
     "data": {
      "image/png": "[encoded data removed]",
      "text/plain": [
       "<Figure size 640x480 with 1 Axes>"
      ]
     },
     "metadata": {},
     "output_type": "display_data"
    }
   ],
   "source": [
    "# Fast Fourier transform (numpy.fft)\n",
    "t = np.arange(-3,3.1,.1)    # Setting t-values array\n",
    "f = np.exp(-t**2/0.1)       # Gaussian pulse\n",
    "# TODO Compute the one-dimensional discrete Fourier Transform.\n",
    "F = np.fft.fft(f)\n",
    "# TODO Shift the zero-frequency component to the center of the spectrum.\n",
    "Fs = np.fft.fftshift(F)\n",
    "# TODO Plot the spectrum\n",
    "plt.plot(t, Fs)\n",
    "plt.figure()\n",
    "plt.plot(t, abs(Fs))\n",
    "plt.plot(t, abs(Fs)**2)"
   ]
  },
  {
   "cell_type": "code",
   "execution_count": null,
   "id": "644b922d-50e1-4f4f-9423-6147421e4faa",
   "metadata": {},
   "outputs": [
    {
     "name": "stderr",
     "output_type": "stream",
     "text": [
      "c:\\Users\\zihao\\miniconda3\\envs\\Aspera\\lib\\site-packages\\matplotlib\\cbook.py:1762: ComplexWarning: Casting complex values to real discards the imaginary part\n",
      "  return math.isfinite(val)\n",
      "c:\\Users\\zihao\\miniconda3\\envs\\Aspera\\lib\\site-packages\\matplotlib\\cbook.py:1398: ComplexWarning: Casting complex values to real discards the imaginary part\n",
      "  return np.asarray(x, float)\n"
     ]
    },
    {
     "data": {
      "text/plain": [
       "[<matplotlib.lines.Line2D at 0x20d5e4c0a90>]"
      ]
     },
     "execution_count": 120,
     "metadata": {},
     "output_type": "execute_result"
    },
    {
     "data": {
      "image/png": "[encoded data removed]",
      "text/plain": [
       "<Figure size 640x480 with 1 Axes>"
      ]
     },
     "metadata": {},
     "output_type": "display_data"
    }
   ],
   "source": [
    "f1 = np.fft.ifft(np.fft.ifftshift(Fs))\n",
    "# TODO calculate the inverse fft of fft of f\n",
    "# plot f and f1 in one figure to see the difference\n",
    "plt.plot(t, f1)\n",
    "plt.plot(t, f)"
   ]
  },
  {
   "cell_type": "markdown",
   "id": "6c4e3d00-692e-4cdf-a763-4b96ac9419e2",
   "metadata": {},
   "source": [
    "## SciPy\n",
    "[SciPy](https://docs.scipy.org/doc/scipy/reference/) is an extension to Numpy for genetral scientific purposes."
   ]
  },
  {
   "cell_type": "code",
   "execution_count": null,
   "id": "ae95cc38-f442-40fd-a2e9-24fcb2f5fb82",
   "metadata": {},
   "outputs": [],
   "source": [
    "import scipy as sp"
   ]
  },
  {
   "cell_type": "markdown",
   "id": "dec4383c-6f64-49cf-a906-96de094c4168",
   "metadata": {},
   "source": [
    "### Quick overview of relavent fynctions:\n",
    "- Special functions (``scipy.special``), e.g. Airy function, Bessel functions, …\n",
    "- Integration (``scipy.integrate``)\n",
    "- Interpolation (``scipy.interpolate``)\n",
    "- Optimization and root finding (``sp.optimize``)\n",
    "- Fourier transform (``scipy.fft``)\n",
    "- Linear algebra (``scipy.linalg``)"
   ]
  },
  {
   "cell_type": "markdown",
   "id": "2994c27b-f17c-4b0f-8682-e6a099295443",
   "metadata": {},
   "source": [
    "### Special functions (scipy.special)\n",
    "Special mathematical functions can be accessed by importing [scipy.special](https://docs.scipy.org/doc/scipy/reference/tutorial/special.html). This module contains implementations of special mathematical functions. This includes Airy functions, Bessel functions, Gamma functions, Fresnel integrals, orthogonal polynomials (Chebyshev, Laguerre, Hermitian, etc.) and spheriodal wave functions among others. All of these functions operate transparently on scalar values and\n",
    "NumPy arrays."
   ]
  },
  {
   "cell_type": "code",
   "execution_count": null,
   "id": "40ba176a-0251-4675-9a3e-cfdae47efb66",
   "metadata": {},
   "outputs": [],
   "source": [
    "# Special functions in SciPy\n",
    "x=np.linspace(0,10,1000)\n",
    "# TODO calculate the 0th, 1st, 2nd order Bessel function by scipy\n",
    "\n",
    "# TODO plot three functions in one figure"
   ]
  },
  {
   "cell_type": "markdown",
   "id": "868e231a-8c50-40db-9b4e-3c2b3ac33783",
   "metadata": {},
   "source": [
    "### Integration (scipy.integrate)\n",
    "The [scipy.integrate](https://docs.scipy.org/doc/scipy/reference/integrate.html) package provides functions to do numerical integration. This covers integrating functions from fixed samples (trapezoidal rule, Simpson's rule or Romberg integration) but also integrating arbitrary Python functions directly (Gaussian quadrature).\n",
    "Furthermore the package implements solvers for systems of ordinary differential equations (ODEs) as an initial value problem (``solve_ivp``)."
   ]
  },
  {
   "cell_type": "code",
   "execution_count": null,
   "id": "a045b315-f3de-40c7-a71e-f6738874d926",
   "metadata": {},
   "outputs": [],
   "source": [
    "# Numerical integration in SciPy\n",
    "def func(x):\n",
    "    return x**5\n",
    "\n",
    "# sp.integrate.quad(func, a, b) - Integrate func from a to b (possibly infinite interval: -np.inf or np.inf)\n",
    "I1 = sp.integrate.quad(func, 0, 5)\n",
    "print(I1)\n",
    "\n",
    "x1 = np.arange(0,5.1,0.1)\n",
    "y1 = func(x1)\n",
    "\n",
    "I2 = sp.integrate.trapezoid(y1, x1)\n",
    "print(I2)\n",
    "\n",
    "I3 = sp.integrate.simpson(y1, x=x1)\n",
    "print(I3)"
   ]
  },
  {
   "cell_type": "markdown",
   "id": "076d60a6-183c-4eba-8c55-d9ff30307f61",
   "metadata": {},
   "source": [
    "### Interpolation (scipy.interpolate)\n",
    "The [scipy.interpolate](https://docs.scipy.org/doc/scipy/reference/tutorial/interpolate.html) package provides a lot of routines to do interpolation in one or\n",
    "several dimensions. Very easy to use is the [``interp1d(x, y, kind)``](https://docs.scipy.org/doc/scipy/reference/generated/scipy.interpolate.interp1d.html#scipy.interpolate.interp1d) function which\n",
    "returns a function that interpolates the graph (x, y). The parameter kind is a string that specifies the kind of interpolation:"
   ]
  },
  {
   "cell_type": "code",
   "execution_count": null,
   "id": "4e20cb9a-ddde-4b18-aba9-0c3b05e1489d",
   "metadata": {},
   "outputs": [],
   "source": [
    "# Data interpolation in SciPy\n",
    "x = np.linspace(0, 10, 10)\n",
    "func = lambda t: np.cos(-t**2/8.0)                  # try to use np.exp(np.cos(t))\n",
    "y = func(x)\n",
    "f1 = sp.interpolate.interp1d(x,y)\n",
    "f2 = sp.interpolate.interp1d(x,y, kind='quadratic') # try to use kind='cubic'\n",
    "\n",
    "xnew = np.linspace(0,10,50)\n",
    "plt.figure()\n",
    "plt.plot(x, y, 'ko', xnew, f1(xnew), 'r-', xnew, f2(xnew), 'g--', xnew, func(xnew), 'k:')\n",
    "plt.legend(['data', 'linear', 'quadratic', 'theory'], loc='best')\n",
    "plt.show()"
   ]
  },
  {
   "cell_type": "markdown",
   "id": "460e4132-fa53-4659-8d74-7dc0fa098d9a",
   "metadata": {},
   "source": [
    "### Optimization (scipy.optimize)\n",
    "\n",
    "[``scipy.optimize``](https://docs.scipy.org/doc/scipy/reference/tutorial/optimize.html) provides functionality for root-finding and minimization. For scalar minimization of a function of one variable you can use [``minimize_scalar``](https://docs.scipy.org/doc/scipy/reference/generated/scipy.optimize.minimize_scalar.html#scipy.optimize.minimize_scalar), for scalar minimization of a multivariate function use [``minimize``](https://docs.scipy.org/doc/scipy/reference/generated/scipy.optimize.minimize.html#scipy.optimize.minimize). Both functions are a common interface to different optimization algorithms which you can choose via the ``method`` keyword argument. However, the default choice should usually work well."
   ]
  },
  {
   "cell_type": "code",
   "execution_count": null,
   "id": "4539c778-f560-46cc-9535-8ef4b414b9e9",
   "metadata": {},
   "outputs": [],
   "source": [
    "# Root finding in SciPy\n",
    "def f1(x):\n",
    "    return (x**5 - 2)\n",
    "\n",
    "root = sp.optimize.newton(f1, 0.7, tol=1e-5)\n",
    "print(root)"
   ]
  },
  {
   "cell_type": "code",
   "execution_count": null,
   "id": "97d80c01-1fe8-42e5-899c-faad3a9be932",
   "metadata": {},
   "outputs": [],
   "source": []
  }
 ],
 "metadata": {
  "kernelspec": {
   "display_name": "Aspera",
   "language": "python",
   "name": "python3"
  },
  "language_info": {
   "codemirror_mode": {
    "name": "ipython",
    "version": 3
   },
   "file_extension": ".py",
   "mimetype": "text/x-python",
   "name": "python",
   "nbconvert_exporter": "python",
   "pygments_lexer": "ipython3",
   "version": "3.9.21"
  }
 },
 "nbformat": 4,
 "nbformat_minor": 5
}
